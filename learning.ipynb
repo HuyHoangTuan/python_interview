{
 "cells": [
  {
   "cell_type": "markdown",
   "metadata": {},
   "source": [
    "# Python Interview"
   ]
  },
  {
   "cell_type": "markdown",
   "metadata": {},
   "source": [
    "## 1. Design Priciple\n",
    "- least astonishment (sự kinh ngạc).\n",
    "- make common things easy, rare thing possible\n",
    "- consistency\n",
    "- law of demeter: an object only reference for itself, mitigating coupling(khớp nối)\n",
    "- independence or orthogonality (sự trực giao): express indendent ideas\n",
    "- managed coupling\n",
    "- subtraction: a design is finish when you can not take anything else away\n",
    "- simplicity before generality\n",
    "- reflexivity\n",
    "- one and one only"
   ]
  },
  {
   "cell_type": "markdown",
   "metadata": {},
   "source": [
    "## 2. SOLID Principle \n",
    "- Single responsibility principle: A class should exactly have one responsibility or one behavior\n",
    "- Open/ close principle: open to extend the class, but close to modify\n",
    "- Liskov substitution principle: parent class can be replaced by child class without any side effect\n",
    "- Interface segregation principle: using many small scale interface with specific intension instead of large scale interface\n",
    "- Dependency inversion principle: high-level module shouldn't be depend on low-level module, the same with interface."
   ]
  },
  {
   "cell_type": "markdown",
   "metadata": {},
   "source": [
    "## 3. Python theory"
   ]
  },
  {
   "cell_type": "markdown",
   "metadata": {},
   "source": [
    "### 3.1. List\n",
    "\n",
    "- $append(x)$\n",
    "- $insert(x, idx)$\n",
    "- $index(x)$: get the first index of element $x$\n",
    "- $reverse()$: reverse the list\n",
    "- $pop(idx)$: remove the element at $idx$, $idx = null$ means the last element\n",
    "- $remove(x)$: remove the element has value equal to $x$\n",
    "- $filter(func, list)$: to filter a list"
   ]
  },
  {
   "cell_type": "markdown",
   "metadata": {},
   "source": [
    "### 3.2. Tuple\n",
    "- Immuatble: values can not be changed or added or removed\n",
    "- Treat as list\n",
    "- using syntax $tuple(list)$ to convert list to tuple\n",
    "- $index(x)$: get the first index of element $x$\n",
    "- $count(x)$: get the number of element $x$"
   ]
  },
  {
   "cell_type": "markdown",
   "metadata": {},
   "source": [
    "### 3.3. Dictionaries\n",
    "- Hash table.\n",
    "- Data type is hashable can be a key.\n",
    "- $keys()$: to get all of the keys as $list$ \n",
    "- $values()$: to get all of the values as $list$\n",
    "- $defaultdict$ can assign default value of non-existence key"
   ]
  },
  {
   "cell_type": "markdown",
   "metadata": {},
   "source": [
    "### 3.4. Set\n",
    "- no repeated value\n",
    "- $set(list)$: to convert list to set\n",
    "- $intersection(set)$ $=$ $set$ & $set$ : to get the intersection between 2 sets\n",
    "- $union(set)$ $=$ $set$ | $set$: to union 2 sets\n",
    "- $difference(set)$ $=$ $set$ - $set$: to get the difference\n",
    "- $symmetric_difference(set)$ $=$ $set$ ^ $set$: to get the symmetric difference\n",
    "- $add(x)$: to add element $x$\n",
    "- $discard(x)$: to remove existed and non-existed element $x$\n",
    "- $remove(x)$: to remove existed element $x$"
   ]
  },
  {
   "cell_type": "markdown",
   "metadata": {},
   "source": [
    "### 3.5. String\n"
   ]
  },
  {
   "cell_type": "markdown",
   "metadata": {},
   "source": [
    "### 3.6. Enum\n",
    "- inheriting $Enum$ to create an enum class"
   ]
  },
  {
   "cell_type": "markdown",
   "metadata": {},
   "source": [
    "### 3.7. Heapq:\n",
    "- Is the minheap"
   ]
  },
  {
   "cell_type": "markdown",
   "metadata": {},
   "source": [
    "### 3.8. Decorator Functions:\n",
    "- $@function{\\_}name$: the declared function under this, being used in $function{\\_}name$, by doing all the stuff in $function{\\_}name$ just call the function"
   ]
  },
  {
   "cell_type": "code",
   "execution_count": 51,
   "metadata": {},
   "outputs": [
    {
     "name": "stdout",
     "output_type": "stream",
     "text": [
      "Decorator function called\n",
      "Hello World\n",
      "Hello World\n"
     ]
    }
   ],
   "source": [
    "def decorator_function(func):\n",
    "    print('Decorator function called')\n",
    "    return func\n",
    "\n",
    "@decorator_function\n",
    "def my_function():\n",
    "    print(\"Hello World\")\n",
    "\n",
    "my_function()\n",
    "my_function()"
   ]
  },
  {
   "cell_type": "code",
   "execution_count": 46,
   "metadata": {},
   "outputs": [
    {
     "name": "stdout",
     "output_type": "stream",
     "text": [
      "do somthing here\n",
      "do something before\n",
      "my function: (1,) {'a': 1}\n",
      "do something after\n",
      "do something before\n",
      "my function: (2,) {'a': 2}\n",
      "do something after\n"
     ]
    }
   ],
   "source": [
    "def decorator_function(func):\n",
    "    print('do somthing here')\n",
    "    def wrapper(*args, **kwargs):\n",
    "        print('do something before')\n",
    "        result = func(*args, **kwargs)\n",
    "        print('do something after')\n",
    "        return result\n",
    "    return wrapper\n",
    "\n",
    "@decorator_function\n",
    "def my_function(*args, **kwargs):\n",
    "    print(f'my function: {args} {kwargs}')\n",
    "\n",
    "my_function(1, a=1)\n",
    "my_function(2, a=2)"
   ]
  },
  {
   "cell_type": "code",
   "execution_count": 92,
   "metadata": {},
   "outputs": [
    {
     "name": "stdout",
     "output_type": "stream",
     "text": [
      "init Test\n",
      "get some thing <__main__.Test object at 0x116ccd790> <bound method ? of <__main__.Test object at 0x116ccd790>>\n",
      "call self 1 <__main__.CountCallsDecorator object at 0x116cee070>\n",
      "do something\n",
      "get some thing <__main__.Test object at 0x116ccd790> <bound method ? of <__main__.Test object at 0x116ccd790>>\n",
      "call self 2 <__main__.CountCallsDecorator object at 0x116cee070>\n",
      "do something\n",
      "do another thing 2\n",
      "init Test\n",
      "get some thing <__main__.Test object at 0x116d44ee0> <bound method ? of <__main__.Test object at 0x116d44ee0>>\n",
      "call self 3 <__main__.CountCallsDecorator object at 0x116cee070>\n",
      "do something\n",
      "do another thing 1\n"
     ]
    },
    {
     "data": {
      "text/plain": [
       "<bound method <lambda> of <__main__.Test object at 0x116d44ee0>>"
      ]
     },
     "execution_count": 92,
     "metadata": {},
     "output_type": "execute_result"
    }
   ],
   "source": [
    "from types import MethodType\n",
    "class CountCallsDecorator(object): \n",
    "    def __init__(self, func):\n",
    "        self.func = func\n",
    "        self.ncalls = 0 # Number of calls of this method\n",
    "\n",
    "    def __call__(self, *args, **kwargs):\n",
    "        self.ncalls += 1 # Increment the calls counter return self.func(*args, **kwargs)\n",
    "        print(f'call self {self.ncalls} {self}')\n",
    "        return self.func(*args, **kwargs)\n",
    "\n",
    "    def __get__(self, instance, cls):\n",
    "        print(f'get some thing {instance} { MethodType(self, instance)}')\n",
    "        return self if instance is None else MethodType(self, instance)\n",
    "    \n",
    "class Test(object):\n",
    "    def __init__(self):\n",
    "        print('init Test')\n",
    "        self._test = 0\n",
    "\n",
    "    @CountCallsDecorator \n",
    "    def do_something(self):\n",
    "        print('do something')\n",
    "        self._test += 1\n",
    "        return self._test\n",
    "\n",
    "a = Test()\n",
    "Test.do_another_thing = lambda self: print(f'do another thing {self._test}')\n",
    "a.do_something()\n",
    "a.do_something()\n",
    "a.do_another_thing()\n",
    "# a.do_something.ncalls\n",
    "b = Test()\n",
    "b.do_something()\n",
    "b.do_another_thing()\n",
    "# b.do_something.ncalls\n",
    "# 1 # 2"
   ]
  },
  {
   "cell_type": "code",
   "execution_count": 38,
   "metadata": {},
   "outputs": [
    {
     "name": "stdout",
     "output_type": "stream",
     "text": [
      "create instance\n",
      "return wrapper\n"
     ]
    }
   ],
   "source": [
    "# Singleton\n",
    "def singleton(cls):\n",
    "    print('create instance')\n",
    "    instance = [None]\n",
    "    def wrapper(*args, **kwargs):\n",
    "        # print(f'check instance {instance}')\n",
    "        if instance[0] is None:\n",
    "            instance[0] = cls(*args, **kwargs)\n",
    "        return instance[0]\n",
    "    print('return wrapper')\n",
    "    return wrapper\n",
    "\n",
    "@singleton\n",
    "class test():\n",
    "    def __init__(self, name):\n",
    "        self._name = name\n",
    "    \n",
    "# x = test('test')\n",
    "# x = test('test2')\n",
    "# print(x._name)"
   ]
  },
  {
   "cell_type": "markdown",
   "metadata": {},
   "source": [
    "### 3.9. Class\n",
    "- ${\\_}{\\_}init{\\_}{\\_}$: initialize the class\n",
    "- ${\\_}{\\_}str{\\_}{\\_}$: parse class to string use for printing directly the class\n",
    "- ${\\_}{\\_}repr{\\_}{\\_}$: parse class to unambiguous string \n",
    "- ${\\_}{\\_}hash{\\_}{\\_}$: make object be hashable and return the hash code of object\n",
    "- ${\\_}{\\_}iter{\\_}{\\_}$ ${\\_}{\\_}next{\\_}{\\_}$: use for iterator object\n",
    "- ${\\_}{\\_}getattriute{\\_}{\\_}$: more like $class.attribute$\n",
    "- ${\\_}{\\_}getitem{\\_}{\\_}$: more like $class[item]$\n",
    "- @$staticmethod$: dont bind to anything\n",
    "- @$classmethod$: bind directly to class not the instance\n",
    "- class variables can be accessed on instance, but assigning to the class attribute will create an instance variable which shadows the class variable"
   ]
  },
  {
   "cell_type": "code",
   "execution_count": 9,
   "metadata": {},
   "outputs": [
    {
     "name": "stdout",
     "output_type": "stream",
     "text": [
      "test1 10\n",
      "test2 10\n",
      "test3 50 10\n"
     ]
    }
   ],
   "source": [
    "class test():\n",
    "    CONST = 5\n",
    "    def __init__(self, const):\n",
    "        self.CONST = const\n",
    "        self.value = const\n",
    "    \n",
    "    @staticmethod\n",
    "    def test1(x):\n",
    "        print(f'test1 {x * test.CONST}')\n",
    "\n",
    "    @classmethod\n",
    "    def test2(cls, x):\n",
    "        print(f'test2 {x * cls.CONST}')\n",
    "\n",
    "    def test3(self, x):\n",
    "        print(f'test3 {x * self.CONST} {self.value}')\n",
    "\n",
    "a = test(10)\n",
    "test.CONST = 2\n",
    "a.test1(5)\n",
    "a.test2(5)\n",
    "a.test3(5)"
   ]
  },
  {
   "cell_type": "markdown",
   "metadata": {},
   "source": [
    "### 4.0. Built-in modules and function\n",
    "- using $dir({\\_}{\\_}builtins{\\_}{\\_})$ to list all the attributes\n",
    "- using $help(function{\\_}name)$ to know the functionality"
   ]
  },
  {
   "cell_type": "markdown",
   "metadata": {},
   "source": [
    "## 4. Design Pattern"
   ]
  },
  {
   "cell_type": "markdown",
   "metadata": {},
   "source": [
    "### 4.1. Creational\n",
    "- How an object was created\n",
    "- Isolating the detail of object creation $\\rightarrow$ code does not depend on what kind of object is $\\rightarrow$ easy to add new type of object"
   ]
  },
  {
   "cell_type": "markdown",
   "metadata": {},
   "source": [
    "#### 4.1.1. Singleton Design Pattern"
   ]
  },
  {
   "cell_type": "code",
   "execution_count": 3,
   "metadata": {},
   "outputs": [
    {
     "name": "stdout",
     "output_type": "stream",
     "text": [
      "[TEST]: set attribute - val - 10\n",
      "[TEST]: get attribute - __dict__\n",
      "[TEST]: get attribute - val\n",
      "10\n"
     ]
    }
   ],
   "source": [
    "from typing import Any\n",
    "\n",
    "\n",
    "class Singleton:\n",
    "    def __init__(self, cls):\n",
    "        self._cls = cls\n",
    "        self._instance = None\n",
    "    \n",
    "    def __call__(self):\n",
    "        raise TypeError('Singleton must be called through get_instance')\n",
    "    \n",
    "    def get_instance(self):\n",
    "        if self._instance is None:\n",
    "            self._instance = self._cls()\n",
    "        \n",
    "        return self._instance\n",
    "    \n",
    "    def __instancecheck__(self, instance: Any) -> bool:\n",
    "        return isinstance(instance, self._cls)\n",
    "    \n",
    "@Singleton\n",
    "class Test:\n",
    "    def __init__(self) -> None:\n",
    "        pass\n",
    "\n",
    "    def __getattr__(self, name: str) -> Any:\n",
    "        print(f'[TEST]: attribute error occur - {name}')\n",
    "        return object.__setattr__(self, name, None)\n",
    "\n",
    "    def __getattribute__(self, name: str) -> Any:\n",
    "        print(f'[TEST]: get attribute - {name}')\n",
    "        return object.__getattribute__(self, name)\n",
    "    \n",
    "    def __setattr__(self, name: str, value: Any) -> None:\n",
    "        print(f'[TEST]: set attribute - {name} - {value}')\n",
    "        self.__dict__[name] = value\n",
    "\n",
    "test = Test.get_instance()\n",
    "test.val = 10\n",
    "print(test.val)"
   ]
  },
  {
   "cell_type": "markdown",
   "metadata": {},
   "source": [
    "#### 4.1.2. Factor Design Pattern"
   ]
  },
  {
   "cell_type": "markdown",
   "metadata": {},
   "source": [
    "- create a new object through an interface\n",
    "- hide the logic of creation"
   ]
  },
  {
   "cell_type": "code",
   "execution_count": null,
   "metadata": {},
   "outputs": [],
   "source": [
    "from enum import Enum\n",
    "\n",
    "class BOOK_TYPE(Enum):\n",
    "    TEXT = 1\n",
    "    IMAGE = 2\n",
    "\n",
    "class Book:\n",
    "    def __init__(self, type: BOOK_TYPE):\n",
    "        self.__book_type = type\n",
    "\n",
    "    @property\n",
    "    def book_type(self):\n",
    "        return self.__book_type\n",
    "\n",
    "    def __str__(self) -> str:\n",
    "        return str(self.__book_type)\n",
    "\n",
    "\n",
    "class Printer_Strategy:\n",
    "    def __init__(self, book: Book) -> None:\n",
    "        self.__book = book\n",
    "\n",
    "    def print_book(self):\n",
    "        pass\n",
    "\n",
    "    @property\n",
    "    def book(self):\n",
    "        return self.__book\n",
    "    \n",
    "    @book.setter\n",
    "    def book(self, book: Book):\n",
    "        self.__book = book\n",
    "\n",
    "class Book_With_Image_Strategy(Printer_Strategy):\n",
    "    def print_book(self):\n",
    "        print(f'Printed image: {self.book}')\n",
    "\n",
    "class Book_With_Text_Only_Strategy(Printer_Strategy):\n",
    "    def print_book(self):\n",
    "        print(f'Printed text: {self.book}')\n",
    "\n",
    "class Printer_Strategy_Factory:\n",
    "    @staticmethod\n",
    "    def create_strategy(book: Book) -> Printer_Strategy:\n",
    "        if book.book_type == BOOK_TYPE.TEXT:\n",
    "            return Book_With_Text_Only_Strategy(book)\n",
    "        elif book.book_type == BOOK_TYPE.IMAGE:\n",
    "            return Book_With_Image_Strategy(book)\n",
    "        else: return Printer_Strategy(book)\n",
    "\n",
    "class Printer:\n",
    "    def __init__(self):\n",
    "        self.__prev_book = None\n",
    "        self.__strategy = None\n",
    "\n",
    "    def print_book(self, book: Book):\n",
    "        self.__strategy = Printer_Strategy_Factory.create_strategy(book)\n",
    "        self.__strategy.print_book()\n",
    "        self.__prev_book = book\n",
    "\n",
    "    @property\n",
    "    def prev_book(self) -> Book:\n",
    "        return self.__prev_book\n",
    "    \n",
    "    @property\n",
    "    def strategy(self) -> Printer_Strategy:\n",
    "        return self.__strategy\n",
    "\n",
    "\n",
    "text_book = Book(BOOK_TYPE.TEXT)\n",
    "image_book = Book(BOOK_TYPE.IMAGE)\n",
    "\n",
    "printer = Printer()\n",
    "\n",
    "\n",
    "printer.print_book(text_book)\n",
    "printer.print_book(image_book)"
   ]
  },
  {
   "cell_type": "markdown",
   "metadata": {},
   "source": [
    "### 4.2. Strutural\n",
    "- satisfying some project constraints\n",
    "- theses work well with the system remain the connection between objects"
   ]
  },
  {
   "cell_type": "markdown",
   "metadata": {},
   "source": [
    "#### 4.2.1. Decorator Design Pattern"
   ]
  },
  {
   "cell_type": "markdown",
   "metadata": {},
   "source": [
    "- flexibely change the property of a function but doesnt impact to other object\n",
    "- allow to wrap an object provides core functionality with other objects that alter this functionality\n",
    "- In paticular, the decorator could add some processes before and after calling the wrapped interface\n",
    "- In the same way, the wrapped object could be a other decorator or core functionality\n"
   ]
  },
  {
   "cell_type": "code",
   "execution_count": 28,
   "metadata": {},
   "outputs": [
    {
     "name": "stdout",
     "output_type": "stream",
     "text": [
      "init Test <function my_func at 0x112400790>\n",
      "init Test <function my_func_1 at 0x1126773a0>\n",
      "call Test 1\n",
      "Say: ('hello',) {'log': 'huy'}\n",
      "call Test 1\n",
      "Speak: {'log': 'huy'} ('bye',)\n"
     ]
    }
   ],
   "source": [
    "class Test:\n",
    "    def __init__(self, func):\n",
    "        print(f'init Test {func}')\n",
    "        self._func = func\n",
    "        self._ncalls = 0\n",
    "    \n",
    "    def __call__(self, *args, **kwargs):\n",
    "        self._ncalls += 1\n",
    "        print(f'call Test {self._ncalls}')\n",
    "        return self._func(args, kwargs)\n",
    "\n",
    "@Test\n",
    "def my_func(prefix, log='hello'):\n",
    "    print(f'Say: {prefix} {log}')\n",
    "\n",
    "@Test\n",
    "def my_func_1(suffix, log = 'hello'):\n",
    "    print(f'Speak: {log} {suffix}')\n",
    "\n",
    "my_func('hello', log='huy')\n",
    "my_func_1('bye', log ='huy')"
   ]
  },
  {
   "cell_type": "markdown",
   "metadata": {},
   "source": [
    "### 4.3. Behavioral\n",
    "- Object has particular type of actions within program."
   ]
  },
  {
   "cell_type": "markdown",
   "metadata": {},
   "source": [
    "#### 4.3.1. Observer Design Pattern"
   ]
  },
  {
   "cell_type": "markdown",
   "metadata": {},
   "source": [
    "- when object dispatched an event all attached observers will perform a callback that "
   ]
  },
  {
   "cell_type": "code",
   "execution_count": 26,
   "metadata": {},
   "outputs": [
    {
     "name": "stdout",
     "output_type": "stream",
     "text": [
      "Inv: {HealthBottle: 1}\n",
      "Inv: {HealthBottle: 11}\n",
      "Inv: {HealthBottle: 6}\n"
     ]
    }
   ],
   "source": [
    "class Item:\n",
    "    ___observers = []\n",
    "\n",
    "    def __hash__(self):\n",
    "        return hash(self.__str__())\n",
    "\n",
    "    def __eq__(self, value: object) -> bool:\n",
    "        return self.__str__() == value.__str__()\n",
    "    \n",
    "    @classmethod\n",
    "    def attach(cls, ins):\n",
    "        cls.___observers.append(ins)\n",
    "\n",
    "    @classmethod\n",
    "    def use_item(cls, quantity = 1):\n",
    "        cls.__dispatch(\n",
    "            {\n",
    "                'item': cls(),\n",
    "                'quantity': quantity,\n",
    "                'action': 'use_item'\n",
    "            }\n",
    "        )\n",
    "    \n",
    "    @classmethod\n",
    "    def collect_item(cls, quantity = 1):\n",
    "        cls.__dispatch(\n",
    "            {\n",
    "                'item': cls(),\n",
    "                'quantity': quantity,\n",
    "                'action': 'collect_item'\n",
    "            }\n",
    "        )\n",
    "\n",
    "    @classmethod\n",
    "    def __dispatch(cls, action):\n",
    "        for observer in cls.___observers:\n",
    "            observer.on_receive_event(action)\n",
    "    \n",
    "    def __repr__(self) -> str:\n",
    "        return self.__str__()\n",
    "    \n",
    "    def __str__(self) -> str:\n",
    "        return self.__class__.__name__\n",
    "\n",
    "class HealthBottle(Item):\n",
    "    pass\n",
    "\n",
    "class ManaBottle(Item):\n",
    "    pass\n",
    "\n",
    "class Inventory:\n",
    "    def __init__(self):\n",
    "        self._items = {}\n",
    "        Item.attach(self)\n",
    "\n",
    "    def on_receive_event(self, event):\n",
    "        action = event['action']\n",
    "        item = event['item']\n",
    "        quantity = event['quantity']\n",
    "\n",
    "        factor = -1 if action == 'use_item' else 1\n",
    "\n",
    "        if item not in self._items:\n",
    "            self._items[item] = 0\n",
    "        \n",
    "        if self._items[item] + factor * quantity >= 0:\n",
    "            self._items[item] += factor * quantity\n",
    "        else:\n",
    "            raise AttributeError(f'Not enough item {item}')\n",
    "        \n",
    "        print(f'Inv: {self._items}')\n",
    "        \n",
    "inv = Inventory()\n",
    "\n",
    "# print(HealthBottle.__str__())\n",
    "\n",
    "HealthBottle.collect_item(1)\n",
    "HealthBottle.collect_item(10)\n",
    "HealthBottle.use_item(5)\n",
    "\n"
   ]
  },
  {
   "cell_type": "markdown",
   "metadata": {},
   "source": [
    "#### 4.3.2. State Machine Design Pattern\n",
    "- Demonstrate the state changes of a object\n",
    "- Using a context class or a manager class to maintain the current state and forward the action to the current state. Then the transition will be happned under the current state.\n",
    "- object class will contain the context/ manager class, and the state will be invisible to object."
   ]
  },
  {
   "cell_type": "code",
   "execution_count": 7,
   "metadata": {},
   "outputs": [
    {
     "name": "stdout",
     "output_type": "stream",
     "text": [
      "Can not perform action in FreeState\n",
      "Borrow the book\n",
      "In reading\n",
      "Return the book\n",
      "Borrow the book\n",
      "In printing\n"
     ]
    }
   ],
   "source": [
    "from enum import Enum\n",
    "\n",
    "class ACTION(Enum):\n",
    "    BORROW = 0\n",
    "    READ = 1\n",
    "    PRINT = 2\n",
    "    RETURN = 3\n",
    "\n",
    "class State:\n",
    "    def __init__(self):\n",
    "        pass\n",
    "    \n",
    "    def process(self):\n",
    "        pass\n",
    "\n",
    "    def __repr__(self) -> str:\n",
    "        return self.__str__()\n",
    "    \n",
    "    def __str__(self) -> str:\n",
    "        return self.__class__.__name__  \n",
    "\n",
    "class FreeState(State):\n",
    "    def process(self, action):\n",
    "        if action == ACTION.BORROW:\n",
    "            print(f'Borrow the book')\n",
    "            return OwnState()\n",
    "        else:\n",
    "            print(f'Can not perform action in {self.__str__()}')\n",
    "            return FreeState()\n",
    "\n",
    "class OwnState(State):\n",
    "    def process(self, action):\n",
    "        if action == ACTION.READ:\n",
    "            print(f'In reading')\n",
    "            return OwnState()\n",
    "        elif action == ACTION.PRINT:\n",
    "            print(f'In printing')\n",
    "            return OwnState()\n",
    "        elif action == ACTION.RETURN:\n",
    "            print(f'Return the book')\n",
    "            return FreeState() \n",
    "        else:\n",
    "            print(f'Can not perform action in {self.__str__()}')\n",
    "            return OwnState()\n",
    "\n",
    "\n",
    "class Context:\n",
    "    def __init__(self):\n",
    "        self.__state = FreeState()\n",
    "    \n",
    "    def process(self, action):\n",
    "        self.__state = self.__state.process(action)\n",
    "\n",
    "\n",
    "class Object:\n",
    "    def __init__(self) -> None:\n",
    "        self.__context = Context()\n",
    "\n",
    "    def do_action(self, action: ACTION):\n",
    "        self.__context.process(action)\n",
    "\n",
    "\n",
    "my_object = Object()\n",
    "\n",
    "my_object.do_action(ACTION.READ)\n",
    "\n",
    "my_object.do_action(ACTION.BORROW)\n",
    "my_object.do_action(ACTION.READ)\n",
    "my_object.do_action(ACTION.RETURN)\n",
    "\n",
    "my_object.do_action(ACTION.BORROW)\n",
    "my_object.do_action(ACTION.PRINT)"
   ]
  },
  {
   "cell_type": "markdown",
   "metadata": {},
   "source": [
    "#### 4.3.3. Strategy Pattern\n",
    "- implement different solutions for single problem\n",
    "- Object will deal with only the abstract strategy class"
   ]
  },
  {
   "cell_type": "code",
   "execution_count": 35,
   "metadata": {},
   "outputs": [
    {
     "name": "stdout",
     "output_type": "stream",
     "text": [
      "Printed text: BOOK_TYPE.TEXT\n",
      "Printed image: BOOK_TYPE.IMAGE\n",
      "<__main__.Book_With_Image_Strategy object at 0x111cc8c70>\n"
     ]
    }
   ],
   "source": [
    "from enum import Enum\n",
    "\n",
    "class BOOK_TYPE(Enum):\n",
    "    TEXT = 1\n",
    "    IMAGE = 2\n",
    "\n",
    "class Book:\n",
    "    def __init__(self, type: BOOK_TYPE):\n",
    "        self.__book_type = type\n",
    "\n",
    "    @property\n",
    "    def book_type(self):\n",
    "        return self.__book_type\n",
    "\n",
    "    def __str__(self) -> str:\n",
    "        return str(self.__book_type)\n",
    "\n",
    "\n",
    "class Printer_Strategy:\n",
    "    def __init__(self, book: Book) -> None:\n",
    "        self.__book = book\n",
    "\n",
    "    def print_book(self):\n",
    "        pass\n",
    "\n",
    "    @property\n",
    "    def book(self):\n",
    "        return self.__book\n",
    "    \n",
    "    @book.setter\n",
    "    def book(self, book: Book):\n",
    "        self.__book = book\n",
    "\n",
    "class Book_With_Image_Strategy(Printer_Strategy):\n",
    "    def print_book(self):\n",
    "        print(f'Printed image: {self.book}')\n",
    "\n",
    "class Book_With_Text_Only_Strategy(Printer_Strategy):\n",
    "    def print_book(self):\n",
    "        print(f'Printed text: {self.book}')\n",
    "\n",
    "class Printer_Strategy_Factory:\n",
    "    @staticmethod\n",
    "    def create_strategy(book: Book) -> Printer_Strategy:\n",
    "        if book.book_type == BOOK_TYPE.TEXT:\n",
    "            return Book_With_Text_Only_Strategy(book)\n",
    "        elif book.book_type == BOOK_TYPE.IMAGE:\n",
    "            return Book_With_Image_Strategy(book)\n",
    "        else: return Printer_Strategy(book)\n",
    "\n",
    "class Printer:\n",
    "    def __init__(self):\n",
    "        self.__prev_book = None\n",
    "        self.__strategy = None\n",
    "\n",
    "    def print_book(self, book: Book):\n",
    "        self.__strategy = Printer_Strategy_Factory.create_strategy(book)\n",
    "        self.__strategy.print_book()\n",
    "        self.__prev_book = book\n",
    "\n",
    "    @property\n",
    "    def prev_book(self) -> Book:\n",
    "        return self.__prev_book\n",
    "    \n",
    "    @property\n",
    "    def strategy(self) -> Printer_Strategy:\n",
    "        return self.__strategy\n",
    "\n",
    "\n",
    "text_book = Book(BOOK_TYPE.TEXT)\n",
    "image_book = Book(BOOK_TYPE.IMAGE)\n",
    "\n",
    "printer = Printer()\n",
    "\n",
    "\n",
    "printer.print_book(text_book)\n",
    "printer.print_book(image_book)"
   ]
  },
  {
   "cell_type": "markdown",
   "metadata": {},
   "source": [
    "## 5. Notes"
   ]
  },
  {
   "cell_type": "markdown",
   "metadata": {},
   "source": [
    "- one libary stores books, and books remember the last page that student has read\n",
    "- so how many student can borrow this book -> more than one\n",
    "- page can be described by a string or an object -> string\n",
    "- in a libray are there many than one book with the same content -> yes\n",
    "- what kind of attributes that u want the have?\n",
    "- assumed that the book was given content and author when add into libray\n",
    "- assumed that all the books are distinct, so i would use an ID to determine the distinction\n",
    "- assume that has a function that could calculate the number of characters in a page from font_size\n",
    "- assume that the index of pages start from one\n",
    "- because there is only one library -> use singleton design pattern to declare library"
   ]
  },
  {
   "cell_type": "code",
   "execution_count": 29,
   "metadata": {},
   "outputs": [
    {
     "name": "stdout",
     "output_type": "stream",
     "text": [
      "st\n",
      "st\n"
     ]
    }
   ],
   "source": [
    "from typing import Any\n",
    "\n",
    "\n",
    "class Book:\n",
    "    def __init__(self, id, author, content, font_size):\n",
    "        self.__author = author\n",
    "        self.__content = content\n",
    "        self.__id = id\n",
    "        self.__font_size = font_size\n",
    "        self.__last_page = 1\n",
    "\n",
    "    def __hash__(self):\n",
    "        return hash(self.__id)\n",
    "    \n",
    "    def __eq__(self, value: object) -> bool:\n",
    "        return self.__id == value.id \n",
    "    \n",
    "    def __eq__(self, value: int) -> bool:\n",
    "        return self.__id == value\n",
    "    \n",
    "    def get_number_of_character(self):\n",
    "        return self.__font_size\n",
    "    \n",
    "    def get_page(self, page_num = None):\n",
    "        characters = self.get_number_of_character()\n",
    "\n",
    "        if page_num is None:\n",
    "            page_num = self.__last_page\n",
    "        \n",
    "        start_idx = (page_num - 1) * characters\n",
    "        end_idx = page_num * characters\n",
    "\n",
    "        self.__last_page = page_num\n",
    "\n",
    "        return self.__content[start_idx: end_idx]\n",
    "\n",
    "    @property\n",
    "    def id(self):\n",
    "        return self.__id\n",
    "\n",
    "def Singleton(cls):\n",
    "    instance = [None]\n",
    "    def wrapper(*args, **kwargs):\n",
    "        if instance[0] is None:\n",
    "            instance[0] = cls(*args, **kwargs)\n",
    "        return instance[0]\n",
    "    return wrapper # reference to wrapper -> to call wrapper wrapper()\n",
    "\n",
    "@Singleton\n",
    "class Library:\n",
    "    def __init__(self):\n",
    "        self.__books = {} # key- value -> key ~ book id, value: {book, quantity}\n",
    "\n",
    "    def add_book(self, book: Book):\n",
    "        if book in self.__books:\n",
    "            self.__books[book]['quantity'] += 1\n",
    "        else:\n",
    "            self.__books[book] = {\n",
    "                'book': book,\n",
    "                'quantity': 0\n",
    "            }\n",
    "\n",
    "    def display_book(self, book_id, page_num = None):\n",
    "        if book_id not in self.__books:\n",
    "            raise TypeError('Can not find book!')\n",
    "        book = self.__books[book_id]['book']\n",
    "        return book.get_page(page_num)\n",
    "    \n",
    "library = Library()\n",
    "book = Book(1, 'huy', 'test', 2)\n",
    "library.add_book(book)\n",
    "print(library.display_book(1, 2))\n",
    "print(library.display_book(1))\n",
    "# library = library_1"
   ]
  },
  {
   "cell_type": "markdown",
   "metadata": {},
   "source": [
    "## 6. Algorithm"
   ]
  },
  {
   "cell_type": "markdown",
   "metadata": {},
   "source": [
    "## 7. Object Oriented  Design"
   ]
  },
  {
   "cell_type": "markdown",
   "metadata": {},
   "source": [
    "## 8. System Design"
   ]
  },
  {
   "cell_type": "markdown",
   "metadata": {},
   "source": [
    "## 9. Framework"
   ]
  },
  {
   "cell_type": "markdown",
   "metadata": {},
   "source": [
    "### 9.1. Django"
   ]
  },
  {
   "cell_type": "markdown",
   "metadata": {},
   "source": [
    "- Defining the apps in INSTALLED_APPS\n",
    "- Project -> app\n",
    "- App:\n",
    "    - wsgi:\n",
    "        - the synchronous system, hanlding one request at a time and blocking execution until it finish.\n",
    "        - achive concurrency through process of multi threads\n",
    "        - lacking of web socket support\n",
    "    - asgi:\n",
    "        - the asynchronous system, allowing to execute many requests at a time\n",
    "        - recommend for long-lived connection and many clients\n",
    "        - highly recommend for real-time bidirectional connection\n",
    "\n",
    "    - Settings:\n",
    "        - settings.py:\n",
    "            - STATIC_ROOT: \n",
    "            - STATIC_URL:\n",
    "            - STATICFILES_DIRES: list static files\n",
    "            \n",
    "            - ALLOWED_HOSTS: list address that allowed to host web\n",
    "\n",
    "            - CACHES: must configure default cache, \n",
    "                - BACKEND: cache backend use\n",
    "                - LOCATION: location where cache to use, could be: dir, host and port for cache server\n",
    "            \n",
    "            - DATABASE: must configure default database\n",
    "                - ENGINE: built-in database or other package\n",
    "                - NAME:\n",
    "                - USER:\n",
    "                - PASSWORD:\n",
    "                - HOST\n",
    "                - PORT\n",
    "\n",
    "            - DATA_UPLOAD_MAX_MEMORY_SIZE: the maximum memory size of a request\n",
    "            - DATA_UPLOAD_MAX_NUMBER_FILES: maximum number of paremeters\n",
    "            - DATA_UPLOAD_MAX_NUMBER_FILES: maxumum number of files to upload\n",
    "            - DATABASE_ROUTERS: routers that will be used to determine which database should be use when performing a database query\n",
    "            \n",
    "            - INSTALLED_APPS: list of requirement apps to run this server\n",
    "\n",
    "            - LOCALE_PATHS: list of dir that django looks for localize file\n",
    "\n",
    "            - STORAGES: defines dictionaries for storage file\n",
    "    - Views:\n",
    "        - Receiving HttpRequest then responsing with a html or rendering a template\n",
    "    - Urls:\n",
    "        - Defining routing table\n",
    "        - Can define dynamic url by using url parameters\n",
    "    - Admin:\n",
    "        - admin.py\n",
    "        - Django has default admin site with the view from admin.sites.urls\n",
    "        - Have to createsuperuer to establish an admin user\n",
    "        - Include models into admins site by using admin.site.register(model_name, list_dislay: tuple)\n",
    "            - list_display: column name\n",
    "    - Templates:\n",
    "        - Building HTML file or static file\n",
    "        - Using django template tag (like jinja sql template) to load attached data.\n",
    "        - Define a master template, using {% extend ?? %} to inherit block from the parent template\n",
    "        - Django will look for 404.html in template to replace the default 404\n",
    "        - static file put in static/\n",
    "        - \n",
    "    - Models:\n",
    "        - Defining model in database, eaching model maps to database table\n",
    "        - Migration:\n",
    "            - Defining initial state for model and the migration\n",
    "        - Define display by overriding the ${\\_}{\\_}str{\\_}{\\_}$\n",
    "    "
   ]
  },
  {
   "cell_type": "markdown",
   "metadata": {},
   "source": [
    "### 9.2. ReacJS"
   ]
  },
  {
   "cell_type": "markdown",
   "metadata": {},
   "source": [
    "- Use function component based\n",
    "- Hook:\n",
    "    - useState: cache the input of user-input\n",
    "        - state: user-iput\n",
    "    - useContext: cache the context\n",
    "        - context: can pass data into context to use the shared attributes between many context\n",
    "    - useCallback: cache function between re-renders\n",
    "    - userEffect: synchronize a component with an external system\n",
    "    - useId: generate unique ID\n",
    "    - useMemo: cache the result of calculation between re-renders\n",
    "    - useReducer: create a eventHanlder when using dispatch\n",
    "        - reducer function: function(state, action)\n",
    "    - useRef: create a reference to value or component:\n",
    "        - ref: hold data that not use for rendering\n",
    "        - using forwardRef to attach ref to custom ref\n",
    "        - to reduce the cost of create a new complex object, can use useRef\n",
    "    - useTransation: update state without block user interaction"
   ]
  },
  {
   "cell_type": "markdown",
   "metadata": {},
   "source": [
    "## 10. Questions\n",
    "### 10.1. Overview about experiences/ project\n",
    "- VNG:\n",
    "    - when it comes to VNG, in VNG bassically I invovled in project as the game developer, within the time I was employeed here, I join 3 game porjects, mainly performing the clien-side with specific framework cocoJS, mainly using JS as programming language. Besides that, I also participated in data team, technichly, I implemented data preprocessing and data visualization for all the international game of the teams, supporting carry out the report for each week and month, joined to analysis data and gave advices. Not but not least, I also constructed a classification model to predict the churn pay label, and it was quite effective while i raised the 1% payrate when applied\n",
    "\n",
    "- Research asssitant in HUST:\n",
    "    - First of all, I joint the project to build a website that could interact with the DICOM image which is a medical image standard to store patient information and doctors interaction into an image. At that moment, I did use ReactJS as the front-end framework to create a catchy and responsive user interface with the support of cornerstoneJS dependency.\n",
    "        - In this project, I face a lot of problems. For example, the unlimited increase of re-rendering times or  the time cost for first time open the website or blocking user interact wehn switching between tabs.\n",
    "            - For each problem I pointed out that because of the lack of using hook and experiences when dealing with ReactJS.\n",
    "                - To solve the unlimited increas of re-rendering times, it was a lil bit tricky, i have to re-define the state of each component and add more useEffect with specific state, to reduce the calculation between re-renderings. And especially, at that moment, I put a lot of logic in the useEffect like, fetching data from external system or re-calculate other state, but when dived deeper into ReactJS i relized that useEffect was only for fetching data so i have to refactor almost all the codes that i wrote. and use useRef for the alternative solution for caching data the not use for re-rendering.\n",
    "\n",
    "                - Secondly, i point out that when first time opening the website, it will load all other components that was imported into the website. the solution here, i knew that it not means that i have to load all the component at one time, i have just splitted it to quickly load what i want to see at that moment, so i use the lazy load, it helped the website to load the component when first time i want to see it.\n",
    "\n",
    "                - Lastly, i met a problem that whenever i switch to the tab that had to fetch the data from server, certainly, it fetched the DICOM image and do some logic to initialize the image, I couldnt interact with the UI until it finshed. so to deal with it, i used the useTransaction to mark the feching and update state process as a non-blocking transaction.\n",
    "\n",
    "    - Secondly, the target of the project was sent out a C++ library that easy to interact with the DICOM image and support DICOM network. In this part, i have to refactor some codes inside the project which been left by other students and write 2 class which were SCU and SCP class in DICOM network to communicate, quere/ retriute and store DICOM file. Basically, it was design on TCP socket based, so mainly i just had to open the socket and connect to the right IP and PORT that was opened to listen and using DCMTK the open-source library to manipulate the infomation sent through socket. It was a bit of tricky but with the support of the library, it was much more easier.\n",
    "    But at the end of the day, i still handled it well and the project was sent to the clien to examinize it.\n",
    "\n",
    "- Personal Project:\n",
    "    - Decentralized Blogging Platform: \n",
    "        - In this project, first my role in the project is just system designer and the back-end dev, just to write some smart contracts. But, as the time passed, because of the new framework front-end, thus my partner couldn't finish the UI on time, so i have to support and restructure the fe with my experiences, still at first, it still faced some kind of problems like my RA, after the studying, i managed it well to resolve most of the problems as the RA.\n",
    "\n",
    "        - Here, to show off my algorithm skill, i did apply the disjoin set to mitigate the gas fee. Certainly, when user did some query, it has to perform a lot of recursive function in the block-chain, to find the newest version of the blog, so here i propsosed to use the disjoin set to map the old version to the newest version treat them as the same node.\n",
    "\n",
    "    - Unpublished Project:\n",
    "        - To be honest, this project have not published yet and been postponed. I openen the project with intention to learn more about the django, training model and scoring the algorithm code. Certainly, I splitted the project into 2 parts, one was web part and one was model part. The web part mainly was designed as some algorithm training platform like codeforces, hackerank, leetcode, ... but the difference that I want to use model to generate code to solve the all problem in the database and learn from the submitted code. The model part was used for training model and build prediction services. In first phrase, we mostly focused on the web development, studying about the django and improving the system design. In this phrase, I did some basic set-up with django like DB, cache server, extensions and I haved just finished building crontab to harvesting data from web and pushing it into kafka and scheduled it 'til the project was closed because of the thesis project. My purpose was used a crontab to crawl data and push to kafka, then use another scheduled crontab to poll the data in kafka store it into cache system then using the slow database strategy to store the data into database. then kafka not only was used for that process."
   ]
  }
 ],
 "metadata": {
  "kernelspec": {
   "display_name": "Python 3",
   "language": "python",
   "name": "python3"
  },
  "language_info": {
   "codemirror_mode": {
    "name": "ipython",
    "version": 3
   },
   "file_extension": ".py",
   "mimetype": "text/x-python",
   "name": "python",
   "nbconvert_exporter": "python",
   "pygments_lexer": "ipython3",
   "version": "3.9.6"
  }
 },
 "nbformat": 4,
 "nbformat_minor": 2
}
